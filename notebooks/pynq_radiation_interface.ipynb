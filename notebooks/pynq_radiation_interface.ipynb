{
  "cells": [
    {
      "cell_type": "raw",
      "metadata": {
        "vscode": {
          "languageId": "raw"
        }
      },
      "source": [
        "# PYNQ Radiation Detector Interface\n",
        "\n",
        "This notebook provides an interface to control and monitor the FPGA-based radiation detector.\n"
      ]
    },
    {
      "cell_type": "code",
      "execution_count": null,
      "metadata": {},
      "outputs": [],
      "source": [
        "from pynq import Overlay\n",
        "from pynq import allocate\n",
        "import numpy as np\n",
        "import matplotlib.pyplot as plt\n",
        "from IPython.display import clear_output\n",
        "import time\n"
      ]
    },
    {
      "cell_type": "code",
      "execution_count": null,
      "metadata": {},
      "outputs": [],
      "source": [
        "# Load the overlay\n",
        "overlay = Overlay('./radiation_overlay.bit')\n",
        "\n",
        "# Access the radiation detector IP\n",
        "radiation_detector = overlay.radiation_detector_core\n"
      ]
    },
    {
      "cell_type": "code",
      "execution_count": null,
      "metadata": {},
      "outputs": [],
      "source": [
        "# Configure DMA buffer for data transfer\n",
        "BUFFER_SIZE = 1024\n",
        "input_buffer = allocate(shape=(BUFFER_SIZE,), dtype=np.uint32)\n",
        "output_buffer = allocate(shape=(BUFFER_SIZE,), dtype=np.uint32)\n",
        "\n",
        "# Configure detector parameters\n",
        "def configure_detector(threshold=2048):\n",
        "    radiation_detector.write(0x10, threshold)  # Set threshold\n",
        "    radiation_detector.write(0x14, 1)         # Enable\n",
        "    \n",
        "# Read detector status\n",
        "def read_status():\n",
        "    status = radiation_detector.read(0x00)\n",
        "    event_count = radiation_detector.read(0x04)\n",
        "    return {\n",
        "        'alert': bool(status & 0x1),\n",
        "        'event_count': event_count\n",
        "    }\n"
      ]
    },
    {
      "cell_type": "code",
      "execution_count": null,
      "metadata": {},
      "outputs": [],
      "source": [
        "# Real-time monitoring function\n",
        "def monitor_radiation(update_interval=1.0, max_time=60):\n",
        "    start_time = time.time()\n",
        "    times = []\n",
        "    counts = []\n",
        "    \n",
        "    plt.figure(figsize=(12, 6))\n",
        "    while time.time() - start_time < max_time:\n",
        "        status = read_status()\n",
        "        current_time = time.time() - start_time\n",
        "        \n",
        "        times.append(current_time)\n",
        "        counts.append(status['event_count'])\n",
        "        \n",
        "        clear_output(wait=True)\n",
        "        plt.plot(times, counts, 'b-')\n",
        "        plt.xlabel('Time (s)')\n",
        "        plt.ylabel('Event Count')\n",
        "        plt.title('Radiation Events Over Time')\n",
        "        plt.grid(True)\n",
        "        plt.show()\n",
        "        \n",
        "        if status['alert']:\n",
        "            print(f\"⚠️ Alert! High radiation level detected at t={current_time:.1f}s\")\n",
        "            \n",
        "        time.sleep(update_interval)\n",
        "        \n",
        "    return np.array(times), np.array(counts)\n"
      ]
    }
  ],
  "metadata": {
    "language_info": {
      "name": "python"
    }
  },
  "nbformat": 4,
  "nbformat_minor": 2
}
