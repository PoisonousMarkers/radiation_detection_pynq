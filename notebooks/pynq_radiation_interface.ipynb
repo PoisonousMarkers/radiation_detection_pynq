{
  "cells": [
    {
      "cell_type": "raw",
      "metadata": {
        "vscode": {
          "languageId": "raw"
        }
      },
      "source": [
        "# PYNQ Radiation Detector Interface\n",
        "\n",
        "This notebook provides an interface to control and monitor the FPGA-based radiation detector.\n"
      ]
    },
    {
      "cell_type": "code",
      "execution_count": null,
      "metadata": {},
      "outputs": [],
      "source": [
        "from pynq import Overlay\n",
        "from pynq import allocate\n",
        "import numpy as np\n",
        "import matplotlib.pyplot as plt\n",
        "from IPython.display import clear_output\n",
        "import time\n"
      ]
    },
    {
      "cell_type": "code",
      "execution_count": null,
      "metadata": {},
      "outputs": [],
      "source": [
        "# Load the overlay\n",
        "overlay = Overlay('./radiation_overlay.bit')\n",
        "\n",
        "# Access the radiation detector IP\n",
        "radiation_detector = overlay.radiation_detector_top\n",
        "\n",
        "# Register addresses\n",
        "ADDR_THRESHOLD   = 0x00\n",
        "ADDR_RANDOM_SEED = 0x04\n",
        "ADDR_NOISE_AMP   = 0x08\n",
        "ADDR_SPIKE_INT   = 0x0C\n",
        "ADDR_SPIKE_AMP   = 0x10\n",
        "\n",
        "# Configure simulation parameters\n",
        "def configure_simulation(threshold=2048, seed=0x12345678, \n",
        "                       noise_amp=256, spike_interval=100000, \n",
        "                       spike_amp=4096):\n",
        "    \"\"\"Configure the radiation signal simulator parameters\n",
        "    \n",
        "    Args:\n",
        "        threshold (int): Detection threshold level (0-4095)\n",
        "        seed (int): Random seed for noise generation\n",
        "        noise_amp (int): Amplitude of background noise (0-4095)\n",
        "        spike_interval (int): Clock cycles between radiation spikes\n",
        "        spike_amp (int): Amplitude of radiation spikes (0-4095)\n",
        "    \"\"\"\n",
        "    radiation_detector.write(ADDR_THRESHOLD, threshold)\n",
        "    radiation_detector.write(ADDR_RANDOM_SEED, seed)\n",
        "    radiation_detector.write(ADDR_NOISE_AMP, noise_amp)\n",
        "    radiation_detector.write(ADDR_SPIKE_INT, spike_interval)\n",
        "    radiation_detector.write(ADDR_SPIKE_AMP, spike_amp)\n",
        "    \n",
        "# Initialize with default values\n",
        "configure_simulation()\n"
      ]
    },
    {
      "cell_type": "code",
      "execution_count": null,
      "metadata": {},
      "outputs": [],
      "source": [
        "# Configure DMA buffer for data transfer\n",
        "BUFFER_SIZE = 1024\n",
        "input_buffer = allocate(shape=(BUFFER_SIZE,), dtype=np.uint32)\n",
        "output_buffer = allocate(shape=(BUFFER_SIZE,), dtype=np.uint32)\n",
        "\n",
        "# Configure detector parameters\n",
        "def configure_detector(threshold=2048):\n",
        "    radiation_detector.write(0x10, threshold)  # Set threshold\n",
        "    radiation_detector.write(0x14, 1)         # Enable\n",
        "    \n",
        "# Read detector status\n",
        "def read_status():\n",
        "    status = radiation_detector.read(0x00)\n",
        "    event_count = radiation_detector.read(0x04)\n",
        "    return {\n",
        "        'alert': bool(status & 0x1),\n",
        "        'event_count': event_count\n",
        "    }\n"
      ]
    },
    {
      "cell_type": "code",
      "execution_count": null,
      "metadata": {},
      "outputs": [],
      "source": [
        "# Real-time monitoring function\n",
        "def monitor_radiation(update_interval=1.0, max_time=60):\n",
        "    start_time = time.time()\n",
        "    times = []\n",
        "    counts = []\n",
        "    \n",
        "    plt.figure(figsize=(12, 6))\n",
        "    while time.time() - start_time < max_time:\n",
        "        status = read_status()\n",
        "        current_time = time.time() - start_time\n",
        "        \n",
        "        times.append(current_time)\n",
        "        counts.append(status['event_count'])\n",
        "        \n",
        "        clear_output(wait=True)\n",
        "        plt.plot(times, counts, 'b-')\n",
        "        plt.xlabel('Time (s)')\n",
        "        plt.ylabel('Event Count')\n",
        "        plt.title('Radiation Events Over Time')\n",
        "        plt.grid(True)\n",
        "        plt.show()\n",
        "        \n",
        "        if status['alert']:\n",
        "            print(f\"⚠️ Alert! High radiation level detected at t={current_time:.1f}s\")\n",
        "            \n",
        "        time.sleep(update_interval)\n",
        "        \n",
        "    return np.array(times), np.array(counts)\n"
      ]
    },
    {
      "cell_type": "code",
      "execution_count": null,
      "metadata": {},
      "outputs": [],
      "source": [
        "# Example: Configure different simulation scenarios\n",
        "def configure_normal_background():\n",
        "    \"\"\"Configure normal background radiation simulation\"\"\"\n",
        "    configure_simulation(\n",
        "        threshold=2048,\n",
        "        noise_amp=128,\n",
        "        spike_interval=1000000,  # Very rare spikes\n",
        "        spike_amp=2048  # Moderate spikes\n",
        "    )\n",
        "\n",
        "def configure_high_activity():\n",
        "    \"\"\"Configure simulation with frequent radiation events\"\"\"\n",
        "    configure_simulation(\n",
        "        threshold=2048,\n",
        "        noise_amp=256,\n",
        "        spike_interval=50000,   # Frequent spikes\n",
        "        spike_amp=4096  # High amplitude spikes\n",
        "    )\n",
        "\n",
        "def configure_equipment_malfunction():\n",
        "    \"\"\"Simulate a detector malfunction with erratic readings\"\"\"\n",
        "    configure_simulation(\n",
        "        threshold=2048,\n",
        "        noise_amp=1024,  # Very noisy\n",
        "        spike_interval=10000,  # Very frequent spikes\n",
        "        spike_amp=3072  # Moderate-high spikes\n",
        "    )\n"
      ]
    },
    {
      "cell_type": "raw",
      "metadata": {
        "vscode": {
          "languageId": "raw"
        }
      },
      "source": [
        "# Simulated Radiation Scenarios\n",
        "\n",
        "This notebook now uses a fully simulated radiation detector system. The simulation includes:\n",
        "\n",
        "1. **Background Radiation**\n",
        "   - Constant background level with random noise\n",
        "   - Configurable noise amplitude\n",
        "   - Pseudo-random number generation in hardware\n",
        "\n",
        "2. **Radiation Events**\n",
        "   - Configurable spike frequency and amplitude\n",
        "   - Realistic exponential decay pattern\n",
        "   - Random variations in spike characteristics\n",
        "\n",
        "3. **Simulation Scenarios**\n",
        "   - Normal background radiation\n",
        "   - High radiation activity\n",
        "   - Equipment malfunction simulation\n",
        "\n",
        "Use the configuration functions above to switch between different scenarios and observe the system's response.\n"
      ]
    }
  ],
  "metadata": {
    "language_info": {
      "name": "python"
    }
  },
  "nbformat": 4,
  "nbformat_minor": 2
}
