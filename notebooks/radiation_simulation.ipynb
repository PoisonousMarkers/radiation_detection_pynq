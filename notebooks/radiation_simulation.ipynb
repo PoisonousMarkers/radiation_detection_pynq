{
 "cells": [
  {
   "cell_type": "code",
   "execution_count": null,
   "metadata": {
    "vscode": {
     "languageId": "plaintext"
    }
   },
   "outputs": [],
   "source": [
    "# Radiation Data Simulation\n",
    "\n",
    "This notebook simulates radiation measurements that might be collected from a nuclear plant or environmental monitoring station.\n"
   ]
  },
  {
   "cell_type": "code",
   "execution_count": null,
   "metadata": {},
   "outputs": [],
   "source": [
    "import numpy as np\n",
    "import pandas as pd\n",
    "import matplotlib.pyplot as plt\n",
    "from datetime import datetime, timedelta\n",
    "\n",
    "# Set random seed for reproducibility\n",
    "np.random.seed(42)\n"
   ]
  },
  {
   "cell_type": "code",
   "execution_count": null,
   "metadata": {},
   "outputs": [],
   "source": [
    "# Simulation parameters\n",
    "n_hours = 168  # One week of hourly measurements\n",
    "background_radiation = 5.0  # Background radiation level in μSv/h\n",
    "noise_std = 0.5  # Standard deviation for random noise\n",
    "\n",
    "# Generate timestamps\n",
    "start_time = datetime.now() - timedelta(hours=n_hours)\n",
    "timestamps = [start_time + timedelta(hours=i) for i in range(n_hours)]\n",
    "\n",
    "# Generate base radiation levels with random noise\n",
    "radiation_levels = background_radiation + np.random.normal(0, noise_std, n_hours)\n",
    "\n",
    "# Add some radiation spikes (simulating incidents or equipment malfunctions)\n",
    "spike_indices = [24, 72, 120]  # Spikes at different times\n",
    "spike_magnitudes = [20, 15, 30]  # Different spike intensities\n",
    "\n",
    "for idx, magnitude in zip(spike_indices, spike_magnitudes):\n",
    "    # Create a spike that gradually decreases\n",
    "    decay_length = 5\n",
    "    spike_decay = np.array([magnitude * np.exp(-i/2) for i in range(decay_length)])\n",
    "    radiation_levels[idx:idx+decay_length] += spike_decay\n",
    "\n",
    "# Create DataFrame\n",
    "df = pd.DataFrame({\n",
    "    'timestamp': timestamps,\n",
    "    'radiation_level': radiation_levels\n",
    "})\n",
    "\n",
    "# Display first few rows\n",
    "df.head()\n"
   ]
  },
  {
   "cell_type": "code",
   "execution_count": null,
   "metadata": {},
   "outputs": [],
   "source": [
    "# Plot the radiation levels\n",
    "plt.figure(figsize=(15, 6))\n",
    "plt.plot(df['timestamp'], df['radiation_level'], 'b-', label='Radiation Level')\n",
    "plt.axhline(y=background_radiation, color='r', linestyle='--', label='Background Level')\n",
    "plt.fill_between(df['timestamp'], df['radiation_level'], background_radiation, \n",
    "                 where=(df['radiation_level'] > background_radiation + 3*noise_std),\n",
    "                 color='red', alpha=0.3, label='Anomaly')\n",
    "\n",
    "plt.title('Simulated Radiation Levels Over Time')\n",
    "plt.xlabel('Time')\n",
    "plt.ylabel('Radiation Level (μSv/h)')\n",
    "plt.legend()\n",
    "plt.grid(True)\n",
    "plt.xticks(rotation=45)\n",
    "plt.tight_layout()\n",
    "plt.show()\n"
   ]
  },
  {
   "cell_type": "code",
   "execution_count": null,
   "metadata": {},
   "outputs": [],
   "source": [
    "# Basic statistics\n",
    "print(\"Basic Statistics:\")\n",
    "print(f\"Mean radiation level: {df['radiation_level'].mean():.2f} μSv/h\")\n",
    "print(f\"Standard deviation: {df['radiation_level'].std():.2f} μSv/h\")\n",
    "print(f\"Maximum level: {df['radiation_level'].max():.2f} μSv/h\")\n",
    "print(f\"Minimum level: {df['radiation_level'].min():.2f} μSv/h\")\n",
    "\n",
    "# Count number of anomalies (values more than 3 standard deviations from background)\n",
    "anomalies = df[df['radiation_level'] > background_radiation + 3*noise_std]\n",
    "print(f\"\\nNumber of anomalous readings: {len(anomalies)}\")\n"
   ]
  },
  {
   "cell_type": "code",
   "execution_count": null,
   "metadata": {
    "vscode": {
     "languageId": "plaintext"
    }
   },
   "outputs": [],
   "source": []
  }
 ],
 "metadata": {
  "language_info": {
   "name": "python"
  }
 },
 "nbformat": 4,
 "nbformat_minor": 2
}
